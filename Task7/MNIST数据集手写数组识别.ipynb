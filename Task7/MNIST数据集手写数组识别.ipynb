{
 "cells": [
  {
   "cell_type": "markdown",
   "metadata": {},
   "source": [
    "###  数据集介绍\n",
    "\n",
    "MNIST 包括6万张28x28的训练样本，1万张测试样本，很多教程都会对它”下手”几乎成为一个 “典范”，可以说它就是计算机视觉里面的Hello World。所以我们这里也会使用MNIST来进行实战。\n",
    "\n",
    "前面在介绍卷积神经网络的时候说到过LeNet-5，LeNet-5之所以强大就是因为在当时的环境下将MNIST数据的识别率提高到了99%，这里我们也自己从头搭建一个卷积神经网络，也达到99%的准确率\n"
   ]
  },
  {
   "cell_type": "markdown",
   "metadata": {},
   "source": [
    "### 手写数字识别"
   ]
  },
  {
   "cell_type": "code",
   "execution_count": 1,
   "metadata": {},
   "outputs": [],
   "source": [
    "import torch\n",
    "import torch.nn as nn\n",
    "import torch.nn.functional as F\n",
    "import torch.optim as optim\n",
    "from torchvision import datasets,transforms"
   ]
  },
  {
   "cell_type": "markdown",
   "metadata": {},
   "source": [
    "#### hyper parameters"
   ]
  },
  {
   "cell_type": "code",
   "execution_count": 5,
   "metadata": {},
   "outputs": [],
   "source": [
    "BATCH_SIZE=512 # 大概需要2G的显存\n",
    "EPOCHS=20 # 总共训练批次\n",
    "DEVICE=torch.device(\"cuda\" if torch.cuda.is_available() else \"cpu\")# 让torch判断是否使用GPU，建议使用GPU环境，因为会快很多"
   ]
  },
  {
   "cell_type": "markdown",
   "metadata": {},
   "source": [
    "因为Pytorch里面包含了MNIST的数据集，所以我们这里直接使用即可。 如果第一次执行会生成data文件夹，并且需要一些时间下载，如果以前下载过就不会再次下载了\n",
    "\n",
    "由于官方已经实现了dataset，所以这里可以直接使用DataLoader来对数据进行读取"
   ]
  },
  {
   "cell_type": "code",
   "execution_count": 7,
   "metadata": {},
   "outputs": [],
   "source": [
    "train_loader=torch.utils.data.DataLoader(\n",
    "        datasets.MNIST('data',train=True,download=False,\n",
    "                      transform=transforms.Compose([\n",
    "                          transforms.ToTensor(),\n",
    "                          transforms.Normalize((0.1307,), (0.3081,))\n",
    "                      ])),\n",
    "        batch_size=BATCH_SIZE,shuffle=True)"
   ]
  },
  {
   "cell_type": "markdown",
   "metadata": {},
   "source": [
    "#### 测试集"
   ]
  },
  {
   "cell_type": "code",
   "execution_count": 8,
   "metadata": {},
   "outputs": [],
   "source": [
    "test_loader=torch.utils.data.DataLoader(\n",
    "        datasets.MNIST('data',train=False,transform=transforms.Compose([\n",
    "            transforms.ToTensor(),transforms.Normalize((0.1307,),(0.3081,))\n",
    "        ])),\n",
    "        batch_size=BATCH_SIZE,shuffle=True)"
   ]
  },
  {
   "cell_type": "markdown",
   "metadata": {},
   "source": [
    "#### 定义网络\n",
    "\n",
    "网络包含两个卷积层，conv1和conv2，然后紧接着两个线性层作为输出，最后输出10个维度，这10个维度我们作为0-9的标识来确定识别出的是那个数字"
   ]
  },
  {
   "cell_type": "code",
   "execution_count": 13,
   "metadata": {},
   "outputs": [],
   "source": [
    "class ConvNet(nn.Module):\n",
    "    def __init__(self):\n",
    "        super().__init__()\n",
    "        # input 1,28*28\n",
    "        self.conv1=nn.Conv2d(1,10,5)  # 10,24*24\n",
    "        self.conv2=nn.Conv2d(10,20,3) # 20,10*10\n",
    "        self.fc1 = nn.Linear(20*10*10,500)\n",
    "        self.fc2 = nn.Linear(500,10)\n",
    "    def forward(self,x):\n",
    "        in_size = x.size(0)\n",
    "        out = self.conv1(x) # 24\n",
    "        out = F.max_pool2d(F.relu(out),2,2) # 12\n",
    "        out = self.conv2(out) # 10\n",
    "        out = F.relu(out)\n",
    "        out = out.view(in_size,-1)\n",
    "        out = self.fc1(out)\n",
    "        out = F.relu(out)\n",
    "        out = self.fc2(out)\n",
    "        out = F.log_softmax(out,dim=1)\n",
    "        return out"
   ]
  },
  {
   "cell_type": "markdown",
   "metadata": {},
   "source": [
    "#### 实例化一个网络，实例化后用.to方法将网络移动到GPU\n",
    "\n",
    "优化器用Adam"
   ]
  },
  {
   "cell_type": "code",
   "execution_count": 14,
   "metadata": {},
   "outputs": [],
   "source": [
    "model = ConvNet().to(DEVICE)\n",
    "optimizer = optim.Adam(model.parameters())"
   ]
  },
  {
   "cell_type": "markdown",
   "metadata": {},
   "source": [
    "定义一个训练的函数，将训练的所有操作都封装到这个函数中"
   ]
  },
  {
   "cell_type": "code",
   "execution_count": 22,
   "metadata": {},
   "outputs": [],
   "source": [
    "def train(model, device, train_loader, optimizer, epoch):\n",
    "    model.train()\n",
    "    for batch_idx, (data, target) in enumerate(train_loader):\n",
    "        data, target = data.to(device), target.to(device)\n",
    "        optimizer.zero_grad()\n",
    "        output = model(data)\n",
    "        loss = F.nll_loss(output, target)\n",
    "        loss.backward()\n",
    "        optimizer.step()\n",
    "        if(batch_idx+1)%30 == 0: \n",
    "            print('Train Epoch: {} [{}/{} ({:.0f}%)]\\tLoss: {:.6f}'.format(\n",
    "                epoch, batch_idx * len(data), len(train_loader.dataset),\n",
    "                100. * batch_idx / len(train_loader), loss.item()))"
   ]
  },
  {
   "cell_type": "markdown",
   "metadata": {},
   "source": [
    "封装测试函数"
   ]
  },
  {
   "cell_type": "code",
   "execution_count": 16,
   "metadata": {},
   "outputs": [],
   "source": [
    "def test(model, device, test_loader):\n",
    "    model.eval()\n",
    "    test_loss = 0\n",
    "    correct = 0\n",
    "    with torch.no_grad():\n",
    "        for data, target in test_loader:\n",
    "            data, target = data.to(device), target.to(device)\n",
    "            output = model(data)\n",
    "            test_loss += F.nll_loss(output, target, reduction='sum').item() # 将一批的损失相加\n",
    "            pred = output.max(1, keepdim=True)[1] # 找到概率最大的下标\n",
    "            correct += pred.eq(target.view_as(pred)).sum().item()\n",
    "\n",
    "    test_loss /= len(test_loader.dataset)\n",
    "    print('\\nTest set: Average loss: {:.4f}, Accuracy: {}/{} ({:.0f}%)\\n'.format(\n",
    "        test_loss, correct, len(test_loader.dataset),\n",
    "        100. * correct / len(test_loader.dataset)))"
   ]
  },
  {
   "cell_type": "markdown",
   "metadata": {},
   "source": [
    "#### 开始训练"
   ]
  },
  {
   "cell_type": "code",
   "execution_count": 23,
   "metadata": {},
   "outputs": [
    {
     "name": "stdout",
     "output_type": "stream",
     "text": [
      "Train Epoch: 1 [14848/60000 (25%)]\tLoss: 0.140354\n",
      "Train Epoch: 1 [30208/60000 (50%)]\tLoss: 0.134748\n",
      "Train Epoch: 1 [45568/60000 (75%)]\tLoss: 0.061903\n",
      "\n",
      "Test set: Average loss: 0.0647, Accuracy: 9806/10000 (98%)\n",
      "\n",
      "Train Epoch: 2 [14848/60000 (25%)]\tLoss: 0.060935\n",
      "Train Epoch: 2 [30208/60000 (50%)]\tLoss: 0.049801\n",
      "Train Epoch: 2 [45568/60000 (75%)]\tLoss: 0.036992\n",
      "\n",
      "Test set: Average loss: 0.0593, Accuracy: 9805/10000 (98%)\n",
      "\n",
      "Train Epoch: 3 [14848/60000 (25%)]\tLoss: 0.035149\n",
      "Train Epoch: 3 [30208/60000 (50%)]\tLoss: 0.020280\n",
      "Train Epoch: 3 [45568/60000 (75%)]\tLoss: 0.047812\n",
      "\n",
      "Test set: Average loss: 0.0443, Accuracy: 9862/10000 (99%)\n",
      "\n",
      "Train Epoch: 4 [14848/60000 (25%)]\tLoss: 0.053731\n",
      "Train Epoch: 4 [30208/60000 (50%)]\tLoss: 0.024771\n",
      "Train Epoch: 4 [45568/60000 (75%)]\tLoss: 0.036523\n",
      "\n",
      "Test set: Average loss: 0.0470, Accuracy: 9845/10000 (98%)\n",
      "\n",
      "Train Epoch: 5 [14848/60000 (25%)]\tLoss: 0.025924\n",
      "Train Epoch: 5 [30208/60000 (50%)]\tLoss: 0.026888\n",
      "Train Epoch: 5 [45568/60000 (75%)]\tLoss: 0.026661\n",
      "\n",
      "Test set: Average loss: 0.0381, Accuracy: 9877/10000 (99%)\n",
      "\n",
      "Train Epoch: 6 [14848/60000 (25%)]\tLoss: 0.020854\n",
      "Train Epoch: 6 [30208/60000 (50%)]\tLoss: 0.031868\n",
      "Train Epoch: 6 [45568/60000 (75%)]\tLoss: 0.043473\n",
      "\n",
      "Test set: Average loss: 0.0348, Accuracy: 9886/10000 (99%)\n",
      "\n",
      "Train Epoch: 7 [14848/60000 (25%)]\tLoss: 0.012633\n",
      "Train Epoch: 7 [30208/60000 (50%)]\tLoss: 0.015335\n",
      "Train Epoch: 7 [45568/60000 (75%)]\tLoss: 0.012981\n",
      "\n",
      "Test set: Average loss: 0.0318, Accuracy: 9898/10000 (99%)\n",
      "\n",
      "Train Epoch: 8 [14848/60000 (25%)]\tLoss: 0.018597\n",
      "Train Epoch: 8 [30208/60000 (50%)]\tLoss: 0.023603\n",
      "Train Epoch: 8 [45568/60000 (75%)]\tLoss: 0.016014\n",
      "\n",
      "Test set: Average loss: 0.0340, Accuracy: 9905/10000 (99%)\n",
      "\n",
      "Train Epoch: 9 [14848/60000 (25%)]\tLoss: 0.005989\n",
      "Train Epoch: 9 [30208/60000 (50%)]\tLoss: 0.007075\n",
      "Train Epoch: 9 [45568/60000 (75%)]\tLoss: 0.007738\n",
      "\n",
      "Test set: Average loss: 0.0327, Accuracy: 9896/10000 (99%)\n",
      "\n",
      "Train Epoch: 10 [14848/60000 (25%)]\tLoss: 0.004085\n",
      "Train Epoch: 10 [30208/60000 (50%)]\tLoss: 0.012358\n",
      "Train Epoch: 10 [45568/60000 (75%)]\tLoss: 0.010300\n",
      "\n",
      "Test set: Average loss: 0.0396, Accuracy: 9886/10000 (99%)\n",
      "\n",
      "Train Epoch: 11 [14848/60000 (25%)]\tLoss: 0.005815\n",
      "Train Epoch: 11 [30208/60000 (50%)]\tLoss: 0.013475\n",
      "Train Epoch: 11 [45568/60000 (75%)]\tLoss: 0.004628\n",
      "\n",
      "Test set: Average loss: 0.0356, Accuracy: 9891/10000 (99%)\n",
      "\n",
      "Train Epoch: 12 [14848/60000 (25%)]\tLoss: 0.008288\n",
      "Train Epoch: 12 [30208/60000 (50%)]\tLoss: 0.002680\n",
      "Train Epoch: 12 [45568/60000 (75%)]\tLoss: 0.004902\n",
      "\n",
      "Test set: Average loss: 0.0332, Accuracy: 9909/10000 (99%)\n",
      "\n",
      "Train Epoch: 13 [14848/60000 (25%)]\tLoss: 0.002966\n",
      "Train Epoch: 13 [30208/60000 (50%)]\tLoss: 0.006856\n",
      "Train Epoch: 13 [45568/60000 (75%)]\tLoss: 0.006393\n",
      "\n",
      "Test set: Average loss: 0.0355, Accuracy: 9903/10000 (99%)\n",
      "\n",
      "Train Epoch: 14 [14848/60000 (25%)]\tLoss: 0.001899\n",
      "Train Epoch: 14 [30208/60000 (50%)]\tLoss: 0.004432\n",
      "Train Epoch: 14 [45568/60000 (75%)]\tLoss: 0.013709\n",
      "\n",
      "Test set: Average loss: 0.0415, Accuracy: 9889/10000 (99%)\n",
      "\n",
      "Train Epoch: 15 [14848/60000 (25%)]\tLoss: 0.001641\n",
      "Train Epoch: 15 [30208/60000 (50%)]\tLoss: 0.004067\n",
      "Train Epoch: 15 [45568/60000 (75%)]\tLoss: 0.002335\n",
      "\n",
      "Test set: Average loss: 0.0416, Accuracy: 9894/10000 (99%)\n",
      "\n",
      "Train Epoch: 16 [14848/60000 (25%)]\tLoss: 0.001831\n",
      "Train Epoch: 16 [30208/60000 (50%)]\tLoss: 0.002353\n",
      "Train Epoch: 16 [45568/60000 (75%)]\tLoss: 0.005247\n",
      "\n",
      "Test set: Average loss: 0.0482, Accuracy: 9881/10000 (99%)\n",
      "\n",
      "Train Epoch: 17 [14848/60000 (25%)]\tLoss: 0.009840\n",
      "Train Epoch: 17 [30208/60000 (50%)]\tLoss: 0.001029\n",
      "Train Epoch: 17 [45568/60000 (75%)]\tLoss: 0.005436\n",
      "\n",
      "Test set: Average loss: 0.0411, Accuracy: 9886/10000 (99%)\n",
      "\n",
      "Train Epoch: 18 [14848/60000 (25%)]\tLoss: 0.001714\n",
      "Train Epoch: 18 [30208/60000 (50%)]\tLoss: 0.004792\n",
      "Train Epoch: 18 [45568/60000 (75%)]\tLoss: 0.001078\n",
      "\n",
      "Test set: Average loss: 0.0395, Accuracy: 9899/10000 (99%)\n",
      "\n",
      "Train Epoch: 19 [14848/60000 (25%)]\tLoss: 0.000440\n",
      "Train Epoch: 19 [30208/60000 (50%)]\tLoss: 0.001161\n",
      "Train Epoch: 19 [45568/60000 (75%)]\tLoss: 0.000816\n",
      "\n",
      "Test set: Average loss: 0.0378, Accuracy: 9908/10000 (99%)\n",
      "\n",
      "Train Epoch: 20 [14848/60000 (25%)]\tLoss: 0.000200\n",
      "Train Epoch: 20 [30208/60000 (50%)]\tLoss: 0.005311\n",
      "Train Epoch: 20 [45568/60000 (75%)]\tLoss: 0.000328\n",
      "\n",
      "Test set: Average loss: 0.0396, Accuracy: 9910/10000 (99%)\n",
      "\n"
     ]
    }
   ],
   "source": [
    "for epoch in range(1, EPOCHS + 1):\n",
    "    train(model, DEVICE, train_loader, optimizer, epoch)\n",
    "    test(model, DEVICE, test_loader)"
   ]
  },
  {
   "cell_type": "code",
   "execution_count": null,
   "metadata": {},
   "outputs": [],
   "source": []
  }
 ],
 "metadata": {
  "kernelspec": {
   "display_name": "Python 3",
   "language": "python",
   "name": "python3"
  },
  "language_info": {
   "codemirror_mode": {
    "name": "ipython",
    "version": 3
   },
   "file_extension": ".py",
   "mimetype": "text/x-python",
   "name": "python",
   "nbconvert_exporter": "python",
   "pygments_lexer": "ipython3",
   "version": "3.6.5"
  }
 },
 "nbformat": 4,
 "nbformat_minor": 2
}
