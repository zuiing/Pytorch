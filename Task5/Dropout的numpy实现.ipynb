{
 "cells": [
  {
   "cell_type": "markdown",
   "metadata": {},
   "source": [
    "一个3层神经网络的普通版dropout可以用下面代码实现："
   ]
  },
  {
   "cell_type": "code",
   "execution_count": 2,
   "metadata": {},
   "outputs": [],
   "source": [
    "import numpy as np"
   ]
  },
  {
   "cell_type": "code",
   "execution_count": 4,
   "metadata": {},
   "outputs": [],
   "source": [
    "\"\"\" 普通版随机失活: 不推荐实现  \"\"\"\n",
    "p = 0.5 # 激活神经元激活神经元激活神经元（重要的事情说三遍）的概率.   p值更高 = 随机失活更弱\n",
    "def train_step(X):\n",
    "    \"\"\" X中是输入数据 \"\"\"\n",
    "    # 3层neural network的前向传播\n",
    "    H1 = np.maximum(0, np.dot(W1, X) + b1)\n",
    "    U1 = np.random.rand(*H1.shape) < p # 第一个dropout mask\n",
    "    H1 *= U1 # drop!\n",
    "    H2 = np.maximum(0, np.dot(W2, H1) + b2)\n",
    "    U2 = np.random.rand(*H2.shape) < p # 第二个dropout mask\n",
    "    H2 *= U2 # drop!\n",
    "    out = np.dot(W3, H2) + b3\n",
    "    # 反向传播:计算梯度... (略)\n",
    "    # 进行参数更新... (略)\n",
    "    \n",
    "def predict(X):\n",
    "    # 前向传播时模型集成\n",
    "    H1 = np.maximum(0, np.dot(W1, X) + b1) * p # 注意：激活数据要乘以p\n",
    "    H2 = np.maximum(0, np.dot(W2, H1) + b2) * p # 注意：激活数据要乘以p\n",
    "    out = np.dot(W3, H2) + b3\n"
   ]
  },
  {
   "cell_type": "markdown",
   "metadata": {},
   "source": [
    "上述操作不好的性质是必须在测试时对激活数据要按照 p 进行数值范围调整，我们可以使其在训练时就进行数值范围调整，从而让前向传播在测试时保持不变。这样做还有一个好处，无论你决定是否使用随机失活，预测方法的代码可以保持不变。\n",
    "这就是反向随机失活（inverted dropout）："
   ]
  },
  {
   "cell_type": "code",
   "execution_count": 5,
   "metadata": {},
   "outputs": [],
   "source": [
    "\"\"\"\n",
    "inverted dropout（反向随机失活）: 推荐实现方式.\n",
    "在训练的时候drop和调整数值范围，测试时不用任何改变.\n",
    "\"\"\"\n",
    "p = 0.5 # 激活神经元的概率. p值更高 = 随机失活更弱\n",
    "\n",
    "def train_step(X):\n",
    "    # 3层neural network的前向传播\n",
    "    H1 = np.maximum(0, np.dot(W1, X) + b1)\n",
    "    U1 = (np.random.rand(*H1.shape) < p) / p # 第一个dropout mask. 注意/p!\n",
    "    H1 *= U1 # drop!\n",
    "    H2 = np.maximum(0, np.dot(W2, H1) + b2)\n",
    "    U2 = (np.random.rand(*H2.shape) < p) / p # 第二个dropout mask. 注意/p!\n",
    "    H2 *= U2 # drop!\n",
    "    out = np.dot(W3, H2) + b3\n",
    "    # 反向传播:计算梯度... (略)\n",
    "    # 进行参数更新... (略)\n",
    "    \n",
    "def predict(X):\n",
    "    # 前向传播时模型集成\n",
    "    H1 = np.maximum(0, np.dot(W1, X) + b1) # 不用数值范围调整了\n",
    "    H2 = np.maximum(0, np.dot(W2, H1) + b2)\n",
    "    out = np.dot(W3, H2) + b3\n"
   ]
  },
  {
   "cell_type": "code",
   "execution_count": null,
   "metadata": {},
   "outputs": [],
   "source": []
  }
 ],
 "metadata": {
  "kernelspec": {
   "display_name": "Python 3",
   "language": "python",
   "name": "python3"
  },
  "language_info": {
   "codemirror_mode": {
    "name": "ipython",
    "version": 3
   },
   "file_extension": ".py",
   "mimetype": "text/x-python",
   "name": "python",
   "nbconvert_exporter": "python",
   "pygments_lexer": "ipython3",
   "version": "3.6.5"
  }
 },
 "nbformat": 4,
 "nbformat_minor": 2
}
