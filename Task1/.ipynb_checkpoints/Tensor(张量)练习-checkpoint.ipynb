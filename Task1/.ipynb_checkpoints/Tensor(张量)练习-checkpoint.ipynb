{
 "cells": [
  {
   "cell_type": "markdown",
   "metadata": {},
   "source": [
    "# Tensor"
   ]
  },
  {
   "cell_type": "markdown",
   "metadata": {},
   "source": [
    "Tensor是Pytorch中的重要数据结构，可认为是一个高维数组。它可以是一个数（标量）、一维数组（向量）、二维数组（矩阵）以及更高维的数组。"
   ]
  },
  {
   "cell_type": "code",
   "execution_count": 1,
   "metadata": {},
   "outputs": [],
   "source": [
    "%matplotlib inline"
   ]
  },
  {
   "cell_type": "code",
   "execution_count": 2,
   "metadata": {},
   "outputs": [
    {
     "data": {
      "text/plain": [
       "'1.1.0'"
      ]
     },
     "execution_count": 2,
     "metadata": {},
     "output_type": "execute_result"
    }
   ],
   "source": [
    "from __future__ import print_function\n",
    "import torch\n",
    "torch.__version__"
   ]
  },
  {
   "cell_type": "markdown",
   "metadata": {},
   "source": [
    "构建二维数组，仅分配了空间，未初始化"
   ]
  },
  {
   "cell_type": "code",
   "execution_count": 3,
   "metadata": {},
   "outputs": [
    {
     "data": {
      "text/plain": [
       "tensor([[1.9684e-19, 4.4377e+27, 2.0704e-19],\n",
       "        [5.0843e+31, 5.0832e+31, 7.5338e+28]])"
      ]
     },
     "execution_count": 3,
     "metadata": {},
     "output_type": "execute_result"
    }
   ],
   "source": [
    "x=torch.Tensor(2,3) \n",
    "# x=torch.Tensor([[1,2],[3,4]])\n",
    "x"
   ]
  },
  {
   "cell_type": "markdown",
   "metadata": {},
   "source": [
    "使用[0,1]均匀分布随机初始化二维数组"
   ]
  },
  {
   "cell_type": "code",
   "execution_count": 4,
   "metadata": {},
   "outputs": [
    {
     "data": {
      "text/plain": [
       "tensor([[0.9777, 0.0906, 0.7791],\n",
       "        [0.1756, 0.1208, 0.0956]])"
      ]
     },
     "execution_count": 4,
     "metadata": {},
     "output_type": "execute_result"
    }
   ],
   "source": [
    "x=torch.rand(2,3)\n",
    "x"
   ]
  },
  {
   "cell_type": "markdown",
   "metadata": {},
   "source": [
    "创建一个0填充的矩阵，数据类型为long"
   ]
  },
  {
   "cell_type": "code",
   "execution_count": 5,
   "metadata": {},
   "outputs": [
    {
     "data": {
      "text/plain": [
       "tensor([[0, 0, 0],\n",
       "        [0, 0, 0]])"
      ]
     },
     "execution_count": 5,
     "metadata": {},
     "output_type": "execute_result"
    }
   ],
   "source": [
    "x=torch.zeros(2,3,dtype=torch.long)\n",
    "x"
   ]
  },
  {
   "cell_type": "markdown",
   "metadata": {},
   "source": [
    "查看x的形状，torch.size()是tuple对象的子类，因此它支持tuple的所有操作"
   ]
  },
  {
   "cell_type": "code",
   "execution_count": 6,
   "metadata": {},
   "outputs": [
    {
     "name": "stdout",
     "output_type": "stream",
     "text": [
      "torch.Size([2, 3])\n"
     ]
    },
    {
     "data": {
      "text/plain": [
       "3"
      ]
     },
     "execution_count": 6,
     "metadata": {},
     "output_type": "execute_result"
    }
   ],
   "source": [
    "print(x.size())\n",
    "x.size()[1]#x.size(1),查看列数，两种写法等效，下标0的话就是行数"
   ]
  },
  {
   "cell_type": "markdown",
   "metadata": {},
   "source": [
    "创建Tensor并使用现有数据初始化"
   ]
  },
  {
   "cell_type": "code",
   "execution_count": 7,
   "metadata": {},
   "outputs": [
    {
     "name": "stdout",
     "output_type": "stream",
     "text": [
      "tensor([[1, 2, 3],\n",
      "        [4, 5, 6]])\n"
     ]
    }
   ],
   "source": [
    "x=torch.tensor([[1,2,3],[4,5,6]])\n",
    "print(x)"
   ]
  },
  {
   "cell_type": "markdown",
   "metadata": {},
   "source": [
    "根据现有的张量创建张量，这些方法将重用输入张量的属性，除非设置新的值进行覆盖"
   ]
  },
  {
   "cell_type": "code",
   "execution_count": 8,
   "metadata": {},
   "outputs": [
    {
     "name": "stdout",
     "output_type": "stream",
     "text": [
      "tensor([[-1.4219,  0.5106],\n",
      "        [ 1.2100,  1.6486],\n",
      "        [ 0.9189,  0.0219]])\n",
      "tensor([[1., 1.],\n",
      "        [1., 1.],\n",
      "        [1., 1.]], dtype=torch.float64)\n"
     ]
    }
   ],
   "source": [
    "x=x.new_ones(3,2,dtype=torch.double) #new_*方法来创建对象 并覆盖dtype\n",
    "\n",
    "y=torch.randn_like(x,dtype=torch.float) #对象的size是相同的\n",
    "\n",
    "print(y)\n",
    "print(x)"
   ]
  },
  {
   "cell_type": "markdown",
   "metadata": {},
   "source": [
    "几种张量加法操作"
   ]
  },
  {
   "cell_type": "code",
   "execution_count": 9,
   "metadata": {},
   "outputs": [
    {
     "name": "stdout",
     "output_type": "stream",
     "text": [
      "tensor([[2., 3., 4.],\n",
      "        [5., 6., 7.]])\n",
      "tensor([[2., 3., 4.],\n",
      "        [5., 6., 7.]])\n",
      "tensor([[2., 3., 4.],\n",
      "        [5., 6., 7.]])\n"
     ]
    }
   ],
   "source": [
    "x=torch.ones(2,3)\n",
    "y=torch.Tensor([[1,2,3],[4,5,6]])\n",
    "print(x+y)#方法1\n",
    "print(torch.add(x,y))#方法2\n",
    "res=torch.Tensor(2,3)#必须预先分配空间\n",
    "torch.add(x,y,out=res)#方法3 输出到res\n",
    "print(res)"
   ]
  },
  {
   "cell_type": "markdown",
   "metadata": {},
   "source": [
    "替换，任何以'_'结尾的操作都会用结果替换原变量，例如：x.copy_(y),x.t_(),都会改变x"
   ]
  },
  {
   "cell_type": "code",
   "execution_count": 10,
   "metadata": {},
   "outputs": [
    {
     "name": "stdout",
     "output_type": "stream",
     "text": [
      "tensor([[2., 3., 4.],\n",
      "        [5., 6., 7.]])\n"
     ]
    }
   ],
   "source": [
    "# add x to y\n",
    "y.add_(x)\n",
    "print(y)"
   ]
  },
  {
   "cell_type": "markdown",
   "metadata": {},
   "source": [
    "使用与numpy索引方式相同的操作来进行对张量的操作，呃...numpy我也不熟丫"
   ]
  },
  {
   "cell_type": "code",
   "execution_count": 12,
   "metadata": {},
   "outputs": [
    {
     "name": "stdout",
     "output_type": "stream",
     "text": [
      "tensor([3., 6.])\n"
     ]
    }
   ],
   "source": [
    "print(y[:,1]) #下标为1的列"
   ]
  },
  {
   "cell_type": "code",
   "execution_count": 21,
   "metadata": {},
   "outputs": [
    {
     "name": "stdout",
     "output_type": "stream",
     "text": [
      "torch.Size([4, 4]) torch.Size([16]) torch.Size([1, 16]) torch.Size([2, 8])\n",
      "tensor([[0.5413, 0.2942, 0.5438, 0.7207],\n",
      "        [0.0387, 0.5802, 0.8743, 0.5484],\n",
      "        [0.5816, 0.9679, 0.6617, 0.9712],\n",
      "        [0.3942, 0.0290, 0.6169, 0.3368]]) \n",
      " tensor([0.5413, 0.2942, 0.5438, 0.7207, 0.0387, 0.5802, 0.8743, 0.5484, 0.5816,\n",
      "        0.9679, 0.6617, 0.9712, 0.3942, 0.0290, 0.6169, 0.3368]) \n",
      " tensor([[0.5413, 0.2942, 0.5438, 0.7207, 0.0387, 0.5802, 0.8743, 0.5484, 0.5816,\n",
      "         0.9679, 0.6617, 0.9712, 0.3942, 0.0290, 0.6169, 0.3368]]) \n",
      " tensor([[0.5413, 0.2942, 0.5438, 0.7207, 0.0387, 0.5802, 0.8743, 0.5484],\n",
      "        [0.5816, 0.9679, 0.6617, 0.9712, 0.3942, 0.0290, 0.6169, 0.3368]])\n"
     ]
    }
   ],
   "source": [
    "x=torch.rand(4,4)\n",
    "y=x.view(16) #直接变成一维\n",
    "z=x.view(-1,16) #依然是矩阵\n",
    "w=x.view(-1,8) #emmmm 第二个参数是列数了\n",
    "print(x.size(),y.size(),z.size(),w.size())\n",
    "print(x,\"\\n\",y,\"\\n\",z,\"\\n\",w)"
   ]
  },
  {
   "cell_type": "markdown",
   "metadata": {},
   "source": [
    "### NumPy 转换"
   ]
  },
  {
   "cell_type": "code",
   "execution_count": 23,
   "metadata": {},
   "outputs": [
    {
     "name": "stdout",
     "output_type": "stream",
     "text": [
      "tensor([1., 1., 1., 1., 1., 1.]) \n",
      " [1. 1. 1. 1. 1. 1.]\n"
     ]
    }
   ],
   "source": [
    "a=torch.ones(6)\n",
    "b=a.numpy()\n",
    "print(a,\"\\n\",b)"
   ]
  },
  {
   "cell_type": "code",
   "execution_count": 24,
   "metadata": {},
   "outputs": [
    {
     "name": "stdout",
     "output_type": "stream",
     "text": [
      "tensor([2., 2., 2., 2., 2., 2.]) \n",
      " [2. 2. 2. 2. 2. 2.]\n"
     ]
    }
   ],
   "source": [
    "a.add_(1) # numpy array改变！\n",
    "print(a,\"\\n\",b)"
   ]
  },
  {
   "cell_type": "markdown",
   "metadata": {},
   "source": [
    "使用from_numpy自动转化，所有的tensor类型默认都是基于"
   ]
  },
  {
   "cell_type": "code",
   "execution_count": 25,
   "metadata": {},
   "outputs": [
    {
     "name": "stdout",
     "output_type": "stream",
     "text": [
      "[2. 2. 2. 2. 2.] \n",
      " tensor([2., 2., 2., 2., 2.], dtype=torch.float64)\n"
     ]
    }
   ],
   "source": [
    "import numpy as np\n",
    "a=np.ones(5)\n",
    "b=torch.from_numpy(a) #a和b指向同一块内存？\n",
    "np.add(a,1,out=a)\n",
    "print(a,\"\\n\",b)"
   ]
  },
  {
   "cell_type": "markdown",
   "metadata": {},
   "source": [
    "### CUDA张量\n",
    "使用.to方法 可以将tensor移动到任何设备中"
   ]
  },
  {
   "cell_type": "code",
   "execution_count": 29,
   "metadata": {},
   "outputs": [
    {
     "name": "stdout",
     "output_type": "stream",
     "text": [
      "tensor([[1.5413, 1.2942, 1.5438, 1.7207],\n",
      "        [1.0387, 1.5802, 1.8743, 1.5484],\n",
      "        [1.5816, 1.9679, 1.6617, 1.9712],\n",
      "        [1.3942, 1.0290, 1.6169, 1.3368]], device='cuda:0')\n",
      "tensor([[1.5413, 1.2942, 1.5438, 1.7207],\n",
      "        [1.0387, 1.5802, 1.8743, 1.5484],\n",
      "        [1.5816, 1.9679, 1.6617, 1.9712],\n",
      "        [1.3942, 1.0290, 1.6169, 1.3368]], dtype=torch.float64)\n"
     ]
    }
   ],
   "source": [
    "# is_available 函数判断是否有cuda可以使用\n",
    "# torch.device 将张量移动到指定的设备中\n",
    "if torch.cuda.is_available():\n",
    "    device=torch.device(\"cuda\") # a CUDA 设备对象\n",
    "    y=torch.ones_like(x,device=device) #直接从CPU创建张量\n",
    "    x=x.to(device) #或者直接使用 .to(\"cuda\") 将张量移动到cuda中\n",
    "    z=x+y\n",
    "    print(z)\n",
    "    print(z.to(\"cpu\",torch.double)) #.to也会对变量的类型做更改"
   ]
  },
  {
   "cell_type": "code",
   "execution_count": null,
   "metadata": {},
   "outputs": [],
   "source": []
  }
 ],
 "metadata": {
  "kernelspec": {
   "display_name": "Python 3",
   "language": "python",
   "name": "python3"
  },
  "language_info": {
   "codemirror_mode": {
    "name": "ipython",
    "version": 3
   },
   "file_extension": ".py",
   "mimetype": "text/x-python",
   "name": "python",
   "nbconvert_exporter": "python",
   "pygments_lexer": "ipython3",
   "version": "3.6.5"
  }
 },
 "nbformat": 4,
 "nbformat_minor": 2
}
