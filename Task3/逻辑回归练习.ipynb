{
 "cells": [
  {
   "cell_type": "markdown",
   "metadata": {},
   "source": [
    "# Logistic Regression"
   ]
  },
  {
   "cell_type": "code",
   "execution_count": 29,
   "metadata": {},
   "outputs": [],
   "source": [
    "import torch\n",
    "import torch.nn as nn\n",
    "import numpy as np"
   ]
  },
  {
   "cell_type": "markdown",
   "metadata": {},
   "source": [
    "我们这里使用的 german.data-numeric是numpy处理好数值化数据，直接使用numpy的load方法读取即可"
   ]
  },
  {
   "cell_type": "code",
   "execution_count": 30,
   "metadata": {},
   "outputs": [
    {
     "name": "stdout",
     "output_type": "stream",
     "text": [
      "[[ 1.  6.  4. ...  0.  1.  1.]\n",
      " [ 2. 48.  2. ...  0.  1.  2.]\n",
      " [ 4. 12.  4. ...  1.  0.  1.]\n",
      " ...\n",
      " [ 4. 12.  2. ...  0.  1.  1.]\n",
      " [ 1. 45.  2. ...  0.  1.  2.]\n",
      " [ 2. 45.  4. ...  0.  1.  1.]]\n",
      "(1000, 25)\n"
     ]
    }
   ],
   "source": [
    "data=np.loadtxt(\"german.data-numeric\")\n",
    "print(data)\n",
    "print(data.shape)"
   ]
  },
  {
   "cell_type": "code",
   "execution_count": 41,
   "metadata": {},
   "outputs": [],
   "source": [
    "# 数据读取完成后我们要对数据做一下归一化的处理\n",
    "n,l=data.shape\n",
    "for j in range(l-1):\n",
    "    meanVal=np.mean(data[:,j])\n",
    "    stdVal=np.std(data[:,j])\n",
    "    data[:,j]=(data[:,j]-meanVal)/stdVal\n",
    "    \n",
    "# 打乱数据\n",
    "np.random.shuffle(data)"
   ]
  },
  {
   "cell_type": "markdown",
   "metadata": {},
   "source": [
    "区分训练集和测试集，由于这里没有验证集，所以我们直接使用测试集的准确度作为评判好坏的标准\n",
    "\n",
    "区分规则：900条用于训练，100条作为测试\n",
    "\n",
    "german.data-numeric的格式为，前24列为24个维度，最后一个为要打的标签（0，1），所以我们将数据和标签一起区分出来"
   ]
  },
  {
   "cell_type": "code",
   "execution_count": 42,
   "metadata": {},
   "outputs": [],
   "source": [
    "train_data=data[:900,:l-1]\n",
    "train_lab=data[:900,l-1]-1\n",
    "test_data=data[900:,:l-1]\n",
    "test_lab=data[900:,l-1]-1"
   ]
  },
  {
   "cell_type": "markdown",
   "metadata": {},
   "source": [
    "#### 定义模型"
   ]
  },
  {
   "cell_type": "code",
   "execution_count": 33,
   "metadata": {},
   "outputs": [],
   "source": [
    "class LR(nn.Module):\n",
    "    def __init__(self):\n",
    "        super(LR,self).__init__()\n",
    "        self.fc=nn.Linear(24,2) # 由于24个维度已经固定了，所以这里写24\n",
    "    def forward(self,x):\n",
    "        out=self.fc(x)\n",
    "        out=torch.sigmoid(out)\n",
    "        return out"
   ]
  },
  {
   "cell_type": "markdown",
   "metadata": {},
   "source": [
    "#### 测试集上的准确率"
   ]
  },
  {
   "cell_type": "code",
   "execution_count": 34,
   "metadata": {},
   "outputs": [],
   "source": [
    "def test(pred,lab):\n",
    "    t=pred.max(-1)[1]==lab\n",
    "    return torch.mean(t.float())"
   ]
  },
  {
   "cell_type": "markdown",
   "metadata": {},
   "source": [
    "#### 损失函数和优化器设置"
   ]
  },
  {
   "cell_type": "code",
   "execution_count": 46,
   "metadata": {},
   "outputs": [],
   "source": [
    "net=LR()\n",
    "criterion=nn.CrossEntropyLoss() # 使用CrossEntropyLoss损失函数\n",
    "optim=torch.optim.Adam(net.parameters()) # Adam优化器\n",
    "epochs=2000 # 训练1000次"
   ]
  },
  {
   "cell_type": "markdown",
   "metadata": {},
   "source": [
    "#### 开始训练"
   ]
  },
  {
   "cell_type": "code",
   "execution_count": 47,
   "metadata": {},
   "outputs": [
    {
     "name": "stdout",
     "output_type": "stream",
     "text": [
      "Epoch:100,Loss:0.6534,Accuracy：0.68\n",
      "Epoch:200,Loss:0.6234,Accuracy：0.71\n",
      "Epoch:300,Loss:0.6041,Accuracy：0.73\n",
      "Epoch:400,Loss:0.5905,Accuracy：0.79\n",
      "Epoch:500,Loss:0.5804,Accuracy：0.79\n",
      "Epoch:600,Loss:0.5727,Accuracy：0.79\n",
      "Epoch:700,Loss:0.5664,Accuracy：0.80\n",
      "Epoch:800,Loss:0.5613,Accuracy：0.79\n",
      "Epoch:900,Loss:0.5569,Accuracy：0.80\n",
      "Epoch:1000,Loss:0.5532,Accuracy：0.79\n",
      "Epoch:1100,Loss:0.5500,Accuracy：0.78\n",
      "Epoch:1200,Loss:0.5472,Accuracy：0.79\n",
      "Epoch:1300,Loss:0.5447,Accuracy：0.79\n",
      "Epoch:1400,Loss:0.5424,Accuracy：0.79\n",
      "Epoch:1500,Loss:0.5404,Accuracy：0.79\n",
      "Epoch:1600,Loss:0.5386,Accuracy：0.79\n",
      "Epoch:1700,Loss:0.5370,Accuracy：0.79\n",
      "Epoch:1800,Loss:0.5355,Accuracy：0.78\n",
      "Epoch:1900,Loss:0.5341,Accuracy：0.78\n",
      "Epoch:2000,Loss:0.5329,Accuracy：0.78\n"
     ]
    }
   ],
   "source": [
    "for i in range(epochs):\n",
    "    # 指定模型为训练模式，计算梯度\n",
    "    net.train()\n",
    "    # 输入值都需要转化成torch的Tensor\n",
    "    x=torch.from_numpy(train_data).float()\n",
    "    y=torch.from_numpy(train_lab).long()\n",
    "    y_hat=net(x)\n",
    "    loss=criterion(y_hat,y) # 计算损失\n",
    "    optim.zero_grad() # 前一步的损失清零\n",
    "    loss.backward() # 反向传播\n",
    "    optim.step() # 优化\n",
    "    if (i+1)%100 ==0 : # 这里我们每100次输出相关的信息\n",
    "        # 指定模型为计算模式\n",
    "        net.eval()\n",
    "        test_in=torch.from_numpy(test_data).float()\n",
    "        test_l=torch.from_numpy(test_lab).long()\n",
    "        test_out=net(test_in)\n",
    "        # 使用我们的测试函数计算准确率\n",
    "        accu=test(test_out,test_l)\n",
    "        print(\"Epoch:{},Loss:{:.4f},Accuracy：{:.2f}\".format(i+1,loss.item(),accu))"
   ]
  },
  {
   "cell_type": "code",
   "execution_count": null,
   "metadata": {},
   "outputs": [],
   "source": []
  },
  {
   "cell_type": "code",
   "execution_count": null,
   "metadata": {},
   "outputs": [],
   "source": []
  }
 ],
 "metadata": {
  "kernelspec": {
   "display_name": "Python 3",
   "language": "python",
   "name": "python3"
  },
  "language_info": {
   "codemirror_mode": {
    "name": "ipython",
    "version": 3
   },
   "file_extension": ".py",
   "mimetype": "text/x-python",
   "name": "python",
   "nbconvert_exporter": "python",
   "pygments_lexer": "ipython3",
   "version": "3.6.5"
  }
 },
 "nbformat": 4,
 "nbformat_minor": 2
}
