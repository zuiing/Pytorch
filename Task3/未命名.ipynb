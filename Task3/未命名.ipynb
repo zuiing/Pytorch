{
 "cells": [
  {
   "cell_type": "code",
   "execution_count": 2,
   "metadata": {},
   "outputs": [],
   "source": [
    "import torch"
   ]
  },
  {
   "cell_type": "code",
   "execution_count": 6,
   "metadata": {},
   "outputs": [
    {
     "name": "stdout",
     "output_type": "stream",
     "text": [
      "tensor([[0.8619, 0.2974, 0.6771, 0.7220, 0.9335],\n",
      "        [0.4639, 0.8471, 0.1546, 0.5782, 0.3647],\n",
      "        [0.0807, 0.6062, 0.3392, 0.3437, 0.8434],\n",
      "        [0.2202, 0.1150, 0.6621, 0.4921, 0.9410],\n",
      "        [0.4854, 0.1860, 0.7733, 0.4498, 0.7449]], requires_grad=True) \n",
      " tensor([[0.9798, 0.7187, 0.7333, 0.2223, 0.5221],\n",
      "        [0.6743, 0.7181, 0.1161, 0.5691, 0.5973],\n",
      "        [0.0417, 0.9348, 0.2380, 0.8879, 0.3106],\n",
      "        [0.6645, 0.9932, 0.8066, 0.3070, 0.8966],\n",
      "        [0.4446, 0.5427, 0.1804, 0.6351, 0.1448]], requires_grad=True)\n",
      "tensor([[1., 1., 1., 1., 1.],\n",
      "        [1., 1., 1., 1., 1.],\n",
      "        [1., 1., 1., 1., 1.],\n",
      "        [1., 1., 1., 1., 1.],\n",
      "        [1., 1., 1., 1., 1.]]) \n",
      " tensor([[1., 1., 1., 1., 1.],\n",
      "        [1., 1., 1., 1., 1.],\n",
      "        [1., 1., 1., 1., 1.],\n",
      "        [1., 1., 1., 1., 1.],\n",
      "        [1., 1., 1., 1., 1.]])\n"
     ]
    }
   ],
   "source": [
    "x = torch.rand(5,5,requires_grad=True)\n",
    "y = torch.rand(5,5,requires_grad=True)\n",
    "print(x,'\\n',y)\n",
    "z=torch.sum(x+y)\n",
    "z.backward()\n",
    "print(x.grad,'\\n',y.grad)"
   ]
  },
  {
   "cell_type": "code",
   "execution_count": null,
   "metadata": {},
   "outputs": [],
   "source": []
  }
 ],
 "metadata": {
  "kernelspec": {
   "display_name": "Python 3",
   "language": "python",
   "name": "python3"
  },
  "language_info": {
   "codemirror_mode": {
    "name": "ipython",
    "version": 3
   },
   "file_extension": ".py",
   "mimetype": "text/x-python",
   "name": "python",
   "nbconvert_exporter": "python",
   "pygments_lexer": "ipython3",
   "version": "3.6.5"
  }
 },
 "nbformat": 4,
 "nbformat_minor": 2
}
