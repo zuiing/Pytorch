{
 "cells": [
  {
   "cell_type": "markdown",
   "metadata": {},
   "source": [
    "# PyTorch 基础 : 神经网络包nn和优化器optm"
   ]
  },
  {
   "cell_type": "markdown",
   "metadata": {},
   "source": [
    "#### 引入相关包\n",
    "\n",
    "torch.nn是专门为神经网络设计的模块化接口。nn构建于 Autograd之上，可用来定义和运行神经网络。 \n",
    "\n",
    "torch.nn.functional包含了神经网络中使用的一些常用函数，这些函数的特点是，不具有可学习的参数(如ReLU，pool，DropOut等)，这些函数可以放在构造函数中，也可以不放，但是这里建议不放"
   ]
  },
  {
   "cell_type": "code",
   "execution_count": 1,
   "metadata": {},
   "outputs": [],
   "source": [
    "import torch\n",
    "import torch.nn as nn\n",
    "import torch.nn.functional as F"
   ]
  },
  {
   "cell_type": "markdown",
   "metadata": {},
   "source": [
    "#### 定义一个网络\n",
    "\n",
    "PyTorch中已经为我们准备好了现成的网络模型，只要继承nn.Module，并实现它的forward方法，PyTorch会根据autograd，自动实现backward函数，在forward函数中可使用任何tensor支持的函数，还可以使用if、for循环、print、log等Python语法，写法和标准的Python写法一致。"
   ]
  },
  {
   "cell_type": "code",
   "execution_count": null,
   "metadata": {},
   "outputs": [],
   "source": [
    "class Net(nn.Module):\n",
    "    def __init__(self):\n",
    "        # nn.Module 子类的函数必须在构造函数中执行符类的构造函数，是直接继承吧\n",
    "        super(Net,self).__init__()\n",
    "        \n",
    "        # 卷积层 '1'表示输入图片为单通道,\n",
    "        self.conv1 = nn.Conv2d(in_channels=1,out_channels=6,kernel_size=3) # 即滤波函数，滤波器可能有6个，即每个像素点会输出6个特征值\n",
    "        # 线性层 输入1350个特征，输出10个特征\n",
    "        self.fc1 = nn.Linear(6*15*15,10)\n",
    "        \n",
    "        # 正向传播\n",
    "        def forward(self,x):\n",
    "            print(x.size()) # 结果：[1,1,32,32]\n",
    "            # 卷积-> 激活-> 池化\n",
    "            x = self.conv1(x) # 根据卷积的尺寸计算公式，计算结果是30(在滤波时，边缘部分的像素丢掉了，因此像素由32变成了30，若不想丢失边缘信息，可以在滤波函数中加上padding=1参数)\n",
    "            x = F.relu(x)\n",
    "            print(x.size()) # 结果： [1,16,30,30]\n",
    "            x = F.max_pool2d(x,(2,2)) # 使用池化层，计算结果是15"
   ]
  },
  {
   "cell_type": "code",
   "execution_count": null,
   "metadata": {},
   "outputs": [],
   "source": []
  },
  {
   "cell_type": "code",
   "execution_count": null,
   "metadata": {},
   "outputs": [],
   "source": []
  },
  {
   "cell_type": "code",
   "execution_count": null,
   "metadata": {},
   "outputs": [],
   "source": []
  }
 ],
 "metadata": {
  "kernelspec": {
   "display_name": "Python 3",
   "language": "python",
   "name": "python3"
  },
  "language_info": {
   "codemirror_mode": {
    "name": "ipython",
    "version": 3
   },
   "file_extension": ".py",
   "mimetype": "text/x-python",
   "name": "python",
   "nbconvert_exporter": "python",
   "pygments_lexer": "ipython3",
   "version": "3.6.5"
  }
 },
 "nbformat": 4,
 "nbformat_minor": 2
}
